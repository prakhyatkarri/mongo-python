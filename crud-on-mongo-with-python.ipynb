{
 "cells": [
  {
   "cell_type": "markdown",
   "metadata": {},
   "source": [
    "## CRUD Operations on Mongo using Python\n",
    "\n",
    "For this example, we are using [Mongo](https://hub.docker.com/_/mongo) image in Docker compose environment."
   ]
  },
  {
   "cell_type": "markdown",
   "metadata": {},
   "source": [
    "### Step 1: Spin up Docker compose environment"
   ]
  },
  {
   "cell_type": "code",
   "execution_count": 103,
   "metadata": {},
   "outputs": [
    {
     "name": "stderr",
     "output_type": "stream",
     "text": [
      "Network mongo-python_default  Creating\n",
      "Network mongo-python_default  Created\n",
      "Container mongo-python-mongo-1  Creating\n",
      "Container mongo-python-mongo-1  Created\n",
      "Container mongo-python-mongo-1  Starting\n",
      "Container mongo-python-mongo-1  Started\n"
     ]
    }
   ],
   "source": [
    "!docker compose up --remove-orphans -d \n",
    "\n",
    "# --remove-orphans will remove any previously ran dangling containers\n",
    "# -d will run container in a detached mode"
   ]
  },
  {
   "cell_type": "markdown",
   "metadata": {},
   "source": [
    "### Step 2: Install Mongo library for Python"
   ]
  },
  {
   "cell_type": "code",
   "execution_count": 104,
   "metadata": {},
   "outputs": [
    {
     "name": "stdout",
     "output_type": "stream",
     "text": [
      "Requirement already satisfied: pymongo in c:\\users\\prakh\\appdata\\local\\packages\\pythonsoftwarefoundation.python.3.10_qbz5n2kfra8p0\\localcache\\local-packages\\python310\\site-packages (4.3.3)\n",
      "Requirement already satisfied: dnspython<3.0.0,>=1.16.0 in c:\\users\\prakh\\appdata\\local\\packages\\pythonsoftwarefoundation.python.3.10_qbz5n2kfra8p0\\localcache\\local-packages\\python310\\site-packages (from pymongo) (2.2.1)\n",
      "Note: you may need to restart the kernel to use updated packages.\n"
     ]
    },
    {
     "name": "stderr",
     "output_type": "stream",
     "text": [
      "\n",
      "[notice] A new release of pip available: 22.2.2 -> 22.3.1\n",
      "[notice] To update, run: C:\\Users\\prakh\\AppData\\Local\\Microsoft\\WindowsApps\\PythonSoftwareFoundation.Python.3.10_qbz5n2kfra8p0\\python.exe -m pip install --upgrade pip\n"
     ]
    }
   ],
   "source": [
    "pip install pymongo"
   ]
  },
  {
   "cell_type": "markdown",
   "metadata": {},
   "source": [
    "### Step 3: Connect to Mongo database using Python"
   ]
  },
  {
   "cell_type": "code",
   "execution_count": 105,
   "metadata": {},
   "outputs": [
    {
     "name": "stdout",
     "output_type": "stream",
     "text": [
      "MongoClient(host=['localhost:27017'], document_class=dict, tz_aware=False, connect=True)\n"
     ]
    }
   ],
   "source": [
    "from pymongo import MongoClient\n",
    "USERNAME = \"root\"\n",
    "PASSWORD = \"example\"\n",
    "HOST = \"localhost\"\n",
    "PORT = 27017\n",
    "\n",
    "client = MongoClient(f'mongodb://{USERNAME}:{PASSWORD}@{HOST}:{PORT}/')\n",
    "print(client)"
   ]
  },
  {
   "cell_type": "markdown",
   "metadata": {},
   "source": [
    "### Step 4: Create an `orders` collection in new `products` database"
   ]
  },
  {
   "cell_type": "code",
   "execution_count": 106,
   "metadata": {},
   "outputs": [
    {
     "data": {
      "text/plain": [
       "<pymongo.results.InsertOneResult at 0x1225efcbb80>"
      ]
     },
     "execution_count": 106,
     "metadata": {},
     "output_type": "execute_result"
    }
   ],
   "source": [
    "# Mongo creates a database and collection only when there is at least one record in that collection\n",
    "products_db = client.products\n",
    "record = {\"_id\": 1, \"order_id\": 101, \"name\": \"Apple\", \"quantity\": 10}\n",
    "orders_collection = products_db.orders_collection\n",
    "orders_collection.insert_one(record)"
   ]
  },
  {
   "cell_type": "markdown",
   "metadata": {},
   "source": [
    "### Step 5: Verify if `products` database is created and Select record from collection `orders`"
   ]
  },
  {
   "cell_type": "code",
   "execution_count": 107,
   "metadata": {},
   "outputs": [
    {
     "name": "stdout",
     "output_type": "stream",
     "text": [
      "Products database exists !!\n",
      "{'_id': 1, 'order_id': 101, 'name': 'Apple', 'quantity': 10}\n"
     ]
    }
   ],
   "source": [
    "if 'products' in client.list_database_names():\n",
    "  print('Products database exists !!')\n",
    "\n",
    "filter = {\"order_id\": 101}\n",
    "order_101 = orders_collection.find(filter)\n",
    "for document in order_101:\n",
    "    print(document)"
   ]
  },
  {
   "cell_type": "markdown",
   "metadata": {},
   "source": [
    "### Step 6: Update record with different name in collection `orders` and select the record to verify if update is successful"
   ]
  },
  {
   "cell_type": "code",
   "execution_count": 108,
   "metadata": {},
   "outputs": [
    {
     "name": "stdout",
     "output_type": "stream",
     "text": [
      "{'_id': 1, 'order_id': 101, 'name': 'Banana', 'quantity': 10}\n"
     ]
    }
   ],
   "source": [
    "order_101_updated = { \"$set\": { \"name\": \"Banana\" } }\n",
    "orders_collection.update_one(filter, order_101_updated)\n",
    "order_101_after_update = orders_collection.find(filter)\n",
    "for document in order_101_after_update:\n",
    "    print(document)"
   ]
  },
  {
   "cell_type": "markdown",
   "metadata": {},
   "source": [
    "### Step 7: Delete record from collection `orders` and select the record to verify if delete is successful"
   ]
  },
  {
   "cell_type": "code",
   "execution_count": 109,
   "metadata": {},
   "outputs": [],
   "source": [
    "orders_collection.delete_one(filter)\n",
    "order_101_after_delete = orders_collection.find(filter)\n",
    "for document in order_101_after_delete:\n",
    "    print(document)"
   ]
  },
  {
   "cell_type": "markdown",
   "metadata": {},
   "source": [
    "### Step 8: Clean up resources"
   ]
  },
  {
   "cell_type": "code",
   "execution_count": 110,
   "metadata": {},
   "outputs": [
    {
     "name": "stderr",
     "output_type": "stream",
     "text": [
      "Container mongo-python-mongo-1  Stopping\n",
      "Container mongo-python-mongo-1  Stopping\n",
      "Container mongo-python-mongo-1  Stopped\n",
      "Container mongo-python-mongo-1  Removing\n",
      "Container mongo-python-mongo-1  Removed\n",
      "Network mongo-python_default  Removing\n",
      "Network mongo-python_default  Removed\n"
     ]
    }
   ],
   "source": [
    "!docker compose down"
   ]
  }
 ],
 "metadata": {
  "kernelspec": {
   "display_name": "Python 3.10.8 64-bit (microsoft store)",
   "language": "python",
   "name": "python3"
  },
  "language_info": {
   "codemirror_mode": {
    "name": "ipython",
    "version": 3
   },
   "file_extension": ".py",
   "mimetype": "text/x-python",
   "name": "python",
   "nbconvert_exporter": "python",
   "pygments_lexer": "ipython3",
   "version": "3.10.8"
  },
  "orig_nbformat": 4,
  "vscode": {
   "interpreter": {
    "hash": "634444e4a42c0510ef2be0612b67bda39089e87c9d0419d021c4c25ff12e5e30"
   }
  }
 },
 "nbformat": 4,
 "nbformat_minor": 2
}
